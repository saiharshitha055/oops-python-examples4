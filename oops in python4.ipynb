{
 "cells": [
  {
   "cell_type": "code",
   "execution_count": 2,
   "id": "2612a04c",
   "metadata": {},
   "outputs": [
    {
     "name": "stdout",
     "output_type": "stream",
     "text": [
      "the object value: 10\n",
      "the class var value: 1\n",
      "object with value 10 is going out of scope\n",
      "the object value: 20\n",
      "the class var value: 1\n",
      "object with value 20 is going out of scope\n",
      "the object value: 30\n",
      "the class var value: 1\n",
      "object with value 30 is going out of scope\n",
      "object with value 10 is going out of scope\n",
      "object with value 20 is going out of scope\n",
      "object with value 30 is going out of scope\n"
     ]
    }
   ],
   "source": [
    "#delete method __del__()\n",
    "class abc():\n",
    "    classvar=0\n",
    "    def __init__(self,var):\n",
    "        abc.classvar+=1\n",
    "        self.var=var\n",
    "        print(\"the object value:\",var)\n",
    "        print(\"the class var value:\",abc.classvar)\n",
    "    def __del__(self):\n",
    "        abc.classvar-=1\n",
    "        print(\"object with value %d is going out of scope\" %self.var)\n",
    "obj1=abc(10)\n",
    "obj2=abc(20)            \n",
    "obj3=abc(30)\n",
    "del obj1\n",
    "del obj2\n",
    "del obj3\n"
   ]
  },
  {
   "cell_type": "code",
   "execution_count": null,
   "id": "88c6c747",
   "metadata": {},
   "outputs": [
    {
     "name": "stdout",
     "output_type": "stream",
     "text": [
      "From class method: 10\n",
      "From class method: 100\n",
      "from main module: var1= 10\n",
      "from main module: var1= 100\n"
     ]
    }
   ],
   "source": [
    "#public variable and private variable\n",
    "class abc():\n",
    "    def __init__(self,v1,v2):\n",
    "        self.v1=v1 #public variable\n",
    "        self.__v2=v2 #private variable\n",
    "    def display(self):\n",
    "        print(\"From class method:\",self.v1)\n",
    "        print(\"From class method:\",self.__v2)    \n",
    "obj=abc(10,100)        \n",
    "obj.display()\n",
    "print(\"from main module: var1=\",obj.v1)\n",
    "print(\"from main module: var1=\",obj._abc__v2)"
   ]
  },
  {
   "cell_type": "code",
   "execution_count": 9,
   "id": "ca05e2a7",
   "metadata": {},
   "outputs": [
    {
     "name": "stdout",
     "output_type": "stream",
     "text": [
      "object.__dict__ {'v1': 11, 'v2': 1.2345}\n",
      "object.__doc__= None\n",
      "class.__name__= abc\n",
      "object.__module__= __main__\n",
      "class.__bases__= (<class 'object'>,)\n"
     ]
    }
   ],
   "source": [
    "class abc():\n",
    "    def __init__(self,v1,v2):\n",
    "        self.v1=v1\n",
    "        self.v2=v2\n",
    "    def display(self):\n",
    "        print(\"Var1:\", self.v1)\n",
    "        print(\"Var2:\", self.v2)    \n",
    "obj=abc(11,1.2345)\n",
    "print(\"object.__dict__\", obj.__dict__) \n",
    "print(\"object.__doc__=\",obj.__doc__) \n",
    "print(\"class.__name__=\",abc.__name__)      \n",
    "print(\"object.__module__=\",obj.__module__)\n",
    "print(\"class.__bases__=\",abc.__bases__)"
   ]
  },
  {
   "cell_type": "code",
   "execution_count": 11,
   "id": "446b7f1a",
   "metadata": {},
   "outputs": [
    {
     "name": "stdout",
     "output_type": "stream",
     "text": [
      "Base class-1\n",
      "Base class-2\n",
      "base class-3\n",
      "Derived-class\n"
     ]
    }
   ],
   "source": [
    "#multiple inheritance\n",
    "class base1(object):\n",
    "   def __init__(self): \n",
    "    print(\"Base class-1\")\n",
    "    super(base1,self).__init__()\n",
    "class base2(object):\n",
    "   def __init__(self): \n",
    "    print(\"Base class-2\")    \n",
    "    super(base2,self).__init__()\n",
    "class base3(object):\n",
    "   def __init__(self): \n",
    "    print(\"base class-3\")\n",
    "    super(base3,self).__init__()    \n",
    "class derived(base1,base2,base3):\n",
    "    def __init__(self):\n",
    "        super(derived,self).__init__()\n",
    "        print(\"Derived-class\")    \n",
    "d=derived()        "
   ]
  },
  {
   "cell_type": "code",
   "execution_count": 14,
   "id": "aa959b3e",
   "metadata": {},
   "outputs": [
    {
     "name": "stdout",
     "output_type": "stream",
     "text": [
      "Addition: 12\n",
      "Difference: -4\n",
      "Product: 32\n"
     ]
    }
   ],
   "source": [
    "#multiple inheritance using in calc\n",
    "class addition:\n",
    "    def add(self,a,b):\n",
    "        return a+b\n",
    "class subtract:\n",
    "    def subtract(self,a,b):\n",
    "        return a-b\n",
    "class calc(addition,subtract):\n",
    "    def mul(self,a,b):\n",
    "        return a*b\n",
    "c=calc()            \n",
    "num1=int(input(\"enter the value of a:\"))\n",
    "num2=int(input(\"enter the value of b:\"))\n",
    "print(\"Addition:\",c.add(num1,num2))\n",
    "print(\"Difference:\",c.subtract(num1,num2))\n",
    "print(\"Product:\",c.mul(num1,num2))"
   ]
  }
 ],
 "metadata": {
  "kernelspec": {
   "display_name": "Python 3",
   "language": "python",
   "name": "python3"
  },
  "language_info": {
   "codemirror_mode": {
    "name": "ipython",
    "version": 3
   },
   "file_extension": ".py",
   "mimetype": "text/x-python",
   "name": "python",
   "nbconvert_exporter": "python",
   "pygments_lexer": "ipython3",
   "version": "3.8.4"
  }
 },
 "nbformat": 4,
 "nbformat_minor": 5
}
